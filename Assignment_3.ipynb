{
 "cells": [
  {
   "cell_type": "markdown",
   "id": "7aa27bd9",
   "metadata": {},
   "source": [
    "#### 1. Why are functions advantageous to have in your programs?"
   ]
  },
  {
   "cell_type": "markdown",
   "id": "1cc70fd0",
   "metadata": {},
   "source": [
    "Solution:\n",
    "    \n",
    "    During the development of a program, the same or similar activity may be required to be performed more than once. The use \n",
    "    of functions in such situations avoids duplication of effort and code in programs.\n",
    "    It reduces the size of both the source code and executable code.\n",
    "    It also reduces the time required to write, test, debug and maintain programs, thus reducing program development and\n",
    "    maintenance cost."
   ]
  },
  {
   "cell_type": "markdown",
   "id": "4247fc91",
   "metadata": {},
   "source": [
    "#### 2. When does the code in a function run: when it's specified or when it's called?"
   ]
  },
  {
   "cell_type": "markdown",
   "id": "4bad31ee",
   "metadata": {},
   "source": [
    "Solution:\n",
    "\n",
    "    When a function is \"called\" the program \"leaves\" the current section of code and begins to execute the first line inside \n",
    "    the function."
   ]
  },
  {
   "cell_type": "markdown",
   "id": "654f9df4",
   "metadata": {},
   "source": [
    "#### 3. What statement creates a function?"
   ]
  },
  {
   "cell_type": "markdown",
   "id": "bda5b6a7",
   "metadata": {},
   "source": [
    "Solution:\n",
    "\n",
    "    A function is created with the keyword def.\n",
    "    The def keyword is followed by the function name , the parenthesized list of formal parameters and a colon.\n",
    "    The statements that form the body of the function start at the next line, and must be indented.\n",
    "\n",
    "    Example:\n",
    "            def fun_name():\n",
    "                print(\"Hello world\")\n",
    "                \n",
    "        \n",
    "            fun_name()"
   ]
  },
  {
   "cell_type": "markdown",
   "id": "afba4ad5",
   "metadata": {},
   "source": [
    "#### 4. What is the difference between a function and a function call?"
   ]
  },
  {
   "cell_type": "markdown",
   "id": "228c35c8",
   "metadata": {},
   "source": [
    "Solution:\n",
    "    \n",
    "    A function is a block of code that performs a particular operation and returns a result. It usually accepts inputs as\n",
    "    parameters and returns a result. The parameters are not mandatory.\n",
    "    \n",
    "    A function call is the code used to pass control to a function. Once a function is created in Python, we can call it by \n",
    "    writing function_name() itself or another function/ nested function."
   ]
  },
  {
   "cell_type": "markdown",
   "id": "99a16c0f",
   "metadata": {},
   "source": [
    "#### 5. How many global scopes are there in a Python program? How many local scopes?"
   ]
  },
  {
   "cell_type": "markdown",
   "id": "48434af2",
   "metadata": {},
   "source": [
    "Solution:\n",
    " \n",
    " four types of scope – global scope, local scope, enclosed scope, and built-in scope. These scopes together form the basis for the LEGB rule used by the Python interpreter when working with variables.\n"
   ]
  },
  {
   "cell_type": "markdown",
   "id": "7b58cc3b",
   "metadata": {},
   "source": [
    "Variables that are defined inside a function body have a local scope, and those defined outside have a global scope. This means that local variables can be accessed only inside the function in which they are declared, whereas global variables can be accessed throughout the program body by all functions"
   ]
  },
  {
   "cell_type": "markdown",
   "id": "cf2aca76",
   "metadata": {},
   "source": [
    "#### 6. What happens to variables in a local scope when the function call returns?"
   ]
  },
  {
   "cell_type": "markdown",
   "id": "e9092bb1",
   "metadata": {},
   "source": [
    "Solution:\n",
    "    \n",
    "    When the execution of the function terminates (returns), the local variables are destroyed.\n",
    "    \n",
    "    Local variables are created when a function starts, and deleted when the function is completed."
   ]
  },
  {
   "cell_type": "markdown",
   "id": "ed8396ba",
   "metadata": {},
   "source": [
    "#### 7. What is the concept of a return value? Is it possible to have a return value in an expression?"
   ]
  },
  {
   "cell_type": "markdown",
   "id": "70bb7a7f",
   "metadata": {},
   "source": [
    "Solution:\n",
    "    \n",
    "     A return statement is used to end the execution of the function call and returns the result (value of the expression\n",
    "     following the return keyword) to the caller. The statements after the return statements are not executed. \n",
    "     \n",
    "     If the return statement is written without any expression, then the special value None is returned. \n",
    "     A return statement is overall used to invoke a function so that the passed statements can be executed.\n",
    "\n",
    "     Return statement can not be used outside the function."
   ]
  },
  {
   "cell_type": "markdown",
   "id": "4d34de92",
   "metadata": {},
   "source": [
    "#### 8. If a function does not have a return statement, what is the return value of a call to that function?"
   ]
  },
  {
   "cell_type": "markdown",
   "id": "d45c6621",
   "metadata": {},
   "source": [
    "Solution: \n",
    "    \n",
    "    retutrn value will be \"None\""
   ]
  },
  {
   "cell_type": "markdown",
   "id": "530bd916",
   "metadata": {},
   "source": [
    "#### 9. How do you make a function variable refer to the global variable?"
   ]
  },
  {
   "cell_type": "markdown",
   "id": "808c11c6",
   "metadata": {},
   "source": [
    "Solution:\n",
    "    \n",
    "     use the \"global\" keyword."
   ]
  },
  {
   "cell_type": "markdown",
   "id": "096392c1",
   "metadata": {},
   "source": [
    "#### 10. What is the data type of None?"
   ]
  },
  {
   "cell_type": "markdown",
   "id": "de39f86d",
   "metadata": {},
   "source": [
    "None is a data type of its own (NoneType) "
   ]
  },
  {
   "cell_type": "code",
   "execution_count": 6,
   "id": "2ee54f04",
   "metadata": {},
   "outputs": [
    {
     "data": {
      "text/plain": [
       "NoneType"
      ]
     },
     "execution_count": 6,
     "metadata": {},
     "output_type": "execute_result"
    }
   ],
   "source": [
    "type(None)"
   ]
  },
  {
   "cell_type": "markdown",
   "id": "082d9ced",
   "metadata": {},
   "source": [
    "#### 11. What does the sentence import areallyourpetsnamederic do?"
   ]
  },
  {
   "cell_type": "markdown",
   "id": "3f2de324",
   "metadata": {},
   "source": [
    "Solution:\n",
    "    \n",
    "    imports a module named areallyourpetsnamederic"
   ]
  },
  {
   "cell_type": "markdown",
   "id": "5f4a7266",
   "metadata": {},
   "source": [
    "#### 12. If you had a bacon() feature in a spam module, what would you call it after importing spam?"
   ]
  },
  {
   "cell_type": "markdown",
   "id": "95f6a02c",
   "metadata": {},
   "source": [
    "Solution:\n",
    "    \n",
    "    spam.bacon()"
   ]
  },
  {
   "cell_type": "markdown",
   "id": "57b45c8c",
   "metadata": {},
   "source": [
    "#### 13. What can you do to save a programme from crashing if it encounters an error?"
   ]
  },
  {
   "cell_type": "markdown",
   "id": "8b147768",
   "metadata": {},
   "source": [
    "Solution:\n",
    "\n",
    "    Each and every exception has to be handled by the programmer to avoid the program from crashing abruptly. \n",
    "    This is done by writing additional code in a program to give proper messages or instructions to the user on encountering\n",
    "    an exception. This process is known as exception handling."
   ]
  },
  {
   "cell_type": "markdown",
   "id": "3a79a4e9",
   "metadata": {},
   "source": [
    "#### 14. What is the purpose of the try clause? What is the purpose of the except clause?"
   ]
  },
  {
   "cell_type": "markdown",
   "id": "b2482bd7",
   "metadata": {},
   "source": [
    "Solution:\n",
    "    \n",
    "    The try block lets you test a block of code for errors. The except block lets you handle the error."
   ]
  }
 ],
 "metadata": {
  "kernelspec": {
   "display_name": "Python 3 (ipykernel)",
   "language": "python",
   "name": "python3"
  },
  "language_info": {
   "codemirror_mode": {
    "name": "ipython",
    "version": 3
   },
   "file_extension": ".py",
   "mimetype": "text/x-python",
   "name": "python",
   "nbconvert_exporter": "python",
   "pygments_lexer": "ipython3",
   "version": "3.9.7"
  }
 },
 "nbformat": 4,
 "nbformat_minor": 5
}
