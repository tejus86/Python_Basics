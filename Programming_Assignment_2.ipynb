{
 "cells": [
  {
   "cell_type": "markdown",
   "id": "3aa5e060",
   "metadata": {},
   "source": [
    "#### 1.\tWrite a Python program to convert kilometers to miles?"
   ]
  },
  {
   "cell_type": "markdown",
   "id": "3966e810",
   "metadata": {},
   "source": [
    "One kilometer is equivalent to 0.62137119 miles\n"
   ]
  },
  {
   "cell_type": "code",
   "execution_count": 1,
   "id": "27775028",
   "metadata": {},
   "outputs": [
    {
     "name": "stdout",
     "output_type": "stream",
     "text": [
      "Enter value in kilometers: 2\n",
      "2.0 kilometers is equal to 1.24274238 miles\n"
     ]
    }
   ],
   "source": [
    "km = float(input(\"Enter value in kilometers: \"))\n",
    "\n",
    "convertion_factor = 0.62137119\n",
    "\n",
    "miles = km * 0.62137119\n",
    "\n",
    "print(f\"{km} kilometers is equal to {miles} miles\")"
   ]
  },
  {
   "cell_type": "markdown",
   "id": "dd078ce8",
   "metadata": {},
   "source": [
    "#### 2.\tWrite a Python program to convert Celsius to Fahrenheit?"
   ]
  },
  {
   "cell_type": "markdown",
   "id": "ebadce85",
   "metadata": {},
   "source": [
    "fahrenheit = (celsius * 9) / 5 + 32\n",
    "\n",
    "To convert temperatures in degrees Celsius to Fahrenheit, multiply by 1.8 (or 9/5) and add 32."
   ]
  },
  {
   "cell_type": "code",
   "execution_count": 3,
   "id": "25becb02",
   "metadata": {},
   "outputs": [
    {
     "name": "stdout",
     "output_type": "stream",
     "text": [
      "Enter temperature in Celcius: 36\n",
      "36.0 degree Celsius is equal to 96.8 degree Fahrenheit\n"
     ]
    }
   ],
   "source": [
    "celsius = float(input(\"Enter temperature in Celcius: \"))\n",
    "\n",
    "fahrenheit = (celsius * 1.8) + 32\n",
    "\n",
    "print(f\"{celsius} degree Celsius is equal to {fahrenheit} degree Fahrenheit\")"
   ]
  },
  {
   "cell_type": "markdown",
   "id": "37b5f971",
   "metadata": {},
   "source": [
    "#### 3.\tWrite a Python program to display calendar?"
   ]
  },
  {
   "cell_type": "code",
   "execution_count": 4,
   "id": "9ecf91dc",
   "metadata": {},
   "outputs": [
    {
     "name": "stdout",
     "output_type": "stream",
     "text": [
      "Enter the year: 2022\n",
      "Enter the month: 10\n",
      "    October 2022\n",
      "Mo Tu We Th Fr Sa Su\n",
      "                1  2\n",
      " 3  4  5  6  7  8  9\n",
      "10 11 12 13 14 15 16\n",
      "17 18 19 20 21 22 23\n",
      "24 25 26 27 28 29 30\n",
      "31\n",
      "\n"
     ]
    }
   ],
   "source": [
    "import calendar\n",
    "year = int(input(\"Enter the year: \"))\n",
    "month = int(input(\"Enter the month: \"))\n",
    "\n",
    "print(calendar.month(year, month))"
   ]
  },
  {
   "cell_type": "markdown",
   "id": "90998521",
   "metadata": {},
   "source": [
    "#### 4.\tWrite a Python program to solve quadratic equation?"
   ]
  },
  {
   "cell_type": "markdown",
   "id": "d8afecf3",
   "metadata": {},
   "source": [
    "The standard form of a quadratic equation is:\n",
    "\n",
    "ax^2 + bx + c = 0, where\n",
    "\n",
    "a, b and c are real numbers \n",
    "\n",
    "The solutions of this quadratic equation is given by:\n",
    "\n",
    "(-b ± (b ** 2 - 4 * a * c) ** 0.5) / (2 * a)"
   ]
  },
  {
   "cell_type": "code",
   "execution_count": 6,
   "id": "af2c5645",
   "metadata": {},
   "outputs": [
    {
     "name": "stdout",
     "output_type": "stream",
     "text": [
      "Enter the coefficient a: 1\n",
      "Enter the coefficient b: 5\n",
      "Enter the coefficient c: -14\n",
      "The solution are (-7+0j) and (2+0j)\n"
     ]
    }
   ],
   "source": [
    "# To solve x**2 + 5x - 14 = 0\n",
    "import cmath #This module provides access to mathematical functions for complex numbers.\n",
    "a = int(input(\"Enter the coefficient a: \"))\n",
    "b = int(input(\"Enter the coefficient b: \"))\n",
    "c = int(input(\"Enter the coefficient c: \"))\n",
    "\n",
    "d = (b**2) - (4*a*c)\n",
    "solution1 = (-b-cmath.sqrt(d))/(2*a)\n",
    "solution2 = (-b+cmath.sqrt(d))/(2*a)\n",
    "print(f\"The solution are {solution1} and {solution2}\")\n"
   ]
  },
  {
   "cell_type": "markdown",
   "id": "5deefea9",
   "metadata": {},
   "source": [
    "#### 5.\tWrite a Python program to swap two variables without temp variable?"
   ]
  },
  {
   "cell_type": "code",
   "execution_count": 7,
   "id": "e3d37df5",
   "metadata": {},
   "outputs": [
    {
     "name": "stdout",
     "output_type": "stream",
     "text": [
      "Before swapping x and y values are: x = 1, y = 2\n",
      "After swapping x and y values are: x = 2, y = 1\n"
     ]
    }
   ],
   "source": [
    "x = 1\n",
    "y = 2\n",
    "print(f\"Before swapping x and y values are: x = {x}, y = {y}\")\n",
    "\n",
    "x , y = y , x\n",
    "\n",
    "print(f\"After swapping x and y values are: x = {x}, y = {y}\")\n",
    "\n"
   ]
  }
 ],
 "metadata": {
  "kernelspec": {
   "display_name": "Python 3 (ipykernel)",
   "language": "python",
   "name": "python3"
  },
  "language_info": {
   "codemirror_mode": {
    "name": "ipython",
    "version": 3
   },
   "file_extension": ".py",
   "mimetype": "text/x-python",
   "name": "python",
   "nbconvert_exporter": "python",
   "pygments_lexer": "ipython3",
   "version": "3.9.7"
  }
 },
 "nbformat": 4,
 "nbformat_minor": 5
}
