{
 "cells": [
  {
   "cell_type": "markdown",
   "id": "33189af6",
   "metadata": {},
   "source": [
    "#### 1.\tWrite a Python program to print \"Hello Python\"?"
   ]
  },
  {
   "cell_type": "code",
   "execution_count": 1,
   "id": "1c83c41a",
   "metadata": {},
   "outputs": [
    {
     "name": "stdout",
     "output_type": "stream",
     "text": [
      "Hello Python\n"
     ]
    }
   ],
   "source": [
    "print(\"Hello Python\")"
   ]
  },
  {
   "cell_type": "markdown",
   "id": "45ebb786",
   "metadata": {},
   "source": [
    "#### 2.\tWrite a Python program to do arithmetical operations addition and division.?"
   ]
  },
  {
   "cell_type": "code",
   "execution_count": 2,
   "id": "47d1966c",
   "metadata": {},
   "outputs": [
    {
     "name": "stdout",
     "output_type": "stream",
     "text": [
      "Enter a number: 34\n",
      "Enter a number: 12\n",
      "Addition of 34 and 12 is 46\n",
      "Division of 34 and 12 is 2.8333333333333335\n",
      "Floor Division of 34 and 12 is 2\n"
     ]
    }
   ],
   "source": [
    "A = int(input(\"Enter a number: \"))\n",
    "B = int(input(\"Enter a number: \"))\n",
    "addition = A + B\n",
    "division = A / B\n",
    "floor_division = A // B \n",
    "print(f\"Addition of {A} and {B} is {addition}\")\n",
    "print(f\"Division of {A} and {B} is {division}\")\n",
    "print(f\"Floor Division of {A} and {B} is {floor_division}\")"
   ]
  },
  {
   "cell_type": "markdown",
   "id": "f43abefc",
   "metadata": {},
   "source": [
    "#### 3.\tWrite a Python program to find the area of a triangle?"
   ]
  },
  {
   "cell_type": "markdown",
   "id": "8500abb4",
   "metadata": {},
   "source": [
    "The basic formula for the area of a triangle is equal to half the product of its base and height, i.e., A = 1/2 × b × h."
   ]
  },
  {
   "cell_type": "code",
   "execution_count": 12,
   "id": "7d427175",
   "metadata": {},
   "outputs": [
    {
     "name": "stdout",
     "output_type": "stream",
     "text": [
      "Enter the base of a triangle: 5\n",
      "Enter the height of a triangle: 10\n",
      "Area of triangle of base 5.0 and height 10.0 is 7.0710678118654755\n"
     ]
    }
   ],
   "source": [
    "base = float(input('Enter the base of a triangle: '))\n",
    "height = float(input('Enter the height of a triangle: '))\n",
    "\n",
    "area = (base * height) ** 0.5\n",
    "print(f\"Area of triangle of base {base} and height {height} is {area}\")"
   ]
  },
  {
   "cell_type": "markdown",
   "id": "eb38ab2b",
   "metadata": {},
   "source": [
    "Area of triangle = √[s(s – a)(s – b)(s – c)], where s is the semi-perimeter of the triangle, and a, b, c are lengths of the three sides of the triangle.\n",
    "\n",
    "semi-perimeter\n",
    "s = (a + b + c) / 2"
   ]
  },
  {
   "cell_type": "code",
   "execution_count": 6,
   "id": "e5e87d16",
   "metadata": {},
   "outputs": [
    {
     "name": "stdout",
     "output_type": "stream",
     "text": [
      "Enter first side of a triangle: 4\n",
      "Enter second side of a triangle: 6\n",
      "Enter third side of a triangle: 8\n",
      "Area of triangle of sides 4.0 6.0 8.0 is 11.61895003862225\n"
     ]
    }
   ],
   "source": [
    "a = float(input('Enter first side of a triangle: '))\n",
    "b = float(input('Enter second side of a triangle: '))\n",
    "c = float(input('Enter third side of a triangle: '))\n",
    "s = (a + b + c)/2\n",
    "\n",
    "Area = (s * (s-a) * (s-b) * (s-c)) ** 0.5\n",
    "print(f\"Area of triangle of sides {a} {b} {c} is {Area}\")\n"
   ]
  },
  {
   "cell_type": "code",
   "execution_count": 7,
   "id": "49489fea",
   "metadata": {},
   "outputs": [
    {
     "name": "stdout",
     "output_type": "stream",
     "text": [
      "Enter first side of a triangle: 4\n",
      "Enter second side of a triangle: 6\n",
      "Enter third side of a triangle: 8\n",
      "Area of triangle of sides 4.0 6.0 8.0 is 11.61895003862225\n"
     ]
    }
   ],
   "source": [
    "a = float(input('Enter first side of a triangle: '))\n",
    "b = float(input('Enter second side of a triangle: '))\n",
    "c = float(input('Enter third side of a triangle: '))\n",
    "s = (a + b + c)/2\n",
    "import math\n",
    "Area = math.sqrt(s * (s-a) * (s-b) * (s-c))\n",
    "print(f\"Area of triangle of sides {a} {b} {c} is {Area}\")\n"
   ]
  },
  {
   "cell_type": "markdown",
   "id": "d238e219",
   "metadata": {},
   "source": [
    "#### 4.\tWrite a Python program to swap two variables?"
   ]
  },
  {
   "cell_type": "code",
   "execution_count": 13,
   "id": "f066e67b",
   "metadata": {},
   "outputs": [
    {
     "name": "stdout",
     "output_type": "stream",
     "text": [
      "Before swapping x and y values are: x = 1, y = 2\n",
      "After swapping x and y values are: x = 2, y = 1\n"
     ]
    }
   ],
   "source": [
    "x = 1\n",
    "y = 2\n",
    "print(f\"Before swapping x and y values are: x = {x}, y = {y}\")\n",
    "\n",
    "x , y = y , x\n",
    "\n",
    "print(f\"After swapping x and y values are: x = {x}, y = {y}\")\n",
    "\n"
   ]
  },
  {
   "cell_type": "markdown",
   "id": "740ee77f",
   "metadata": {},
   "source": [
    "#### 5.\tWrite a Python program to generate a random number?"
   ]
  },
  {
   "cell_type": "code",
   "execution_count": 16,
   "id": "eec633b7",
   "metadata": {},
   "outputs": [
    {
     "name": "stdout",
     "output_type": "stream",
     "text": [
      "7\n"
     ]
    }
   ],
   "source": [
    "import random\n",
    "n = random.randint(0,10)\n",
    "print(n)"
   ]
  }
 ],
 "metadata": {
  "kernelspec": {
   "display_name": "Python 3 (ipykernel)",
   "language": "python",
   "name": "python3"
  },
  "language_info": {
   "codemirror_mode": {
    "name": "ipython",
    "version": 3
   },
   "file_extension": ".py",
   "mimetype": "text/x-python",
   "name": "python",
   "nbconvert_exporter": "python",
   "pygments_lexer": "ipython3",
   "version": "3.9.7"
  }
 },
 "nbformat": 4,
 "nbformat_minor": 5
}
