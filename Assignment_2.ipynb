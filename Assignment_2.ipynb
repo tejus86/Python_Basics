{
 "cells": [
  {
   "cell_type": "markdown",
   "id": "27bb7ea0",
   "metadata": {},
   "source": [
    "#### 1.What are the two values of the Boolean data type? How do you write them?"
   ]
  },
  {
   "cell_type": "raw",
   "id": "385acaff",
   "metadata": {},
   "source": [
    "Solution:\n",
    "\n",
    "    The two values of the Boolean data type are: True and False\n",
    "    They are written using capital T and F, with the rest of the word in lowercase.\n",
    "    "
   ]
  },
  {
   "cell_type": "markdown",
   "id": "cf4e0ac8",
   "metadata": {},
   "source": [
    "#### 2. What are the three different types of Boolean operators?"
   ]
  },
  {
   "cell_type": "raw",
   "id": "1973a5fe",
   "metadata": {},
   "source": [
    "Solution:\n",
    "\n",
    "    The three different types of Boolean operators are: AND, OR, and NOT"
   ]
  },
  {
   "cell_type": "markdown",
   "id": "f4864db2",
   "metadata": {},
   "source": [
    "#### 3. Make a list of each Boolean operator's truth tables (i.e. every possible combination of Boolean values for the operator and what it evaluate )."
   ]
  },
  {
   "cell_type": "raw",
   "id": "57c69260",
   "metadata": {},
   "source": [
    "Solution:\n",
    "    AND Operator:\n",
    "        \n",
    "        True and True is True\n",
    "        True and False is False\n",
    "        False and True is False\n",
    "        False and False is False\n",
    "    \n",
    "    OR Operator: \n",
    "        \n",
    "        True or True is True\n",
    "        True or False is True\n",
    "        False or True is True\n",
    "        False or False is False\n",
    "        \n",
    "    NOT Operator:\n",
    "        \n",
    "        not True is False\n",
    "        not False is True"
   ]
  },
  {
   "cell_type": "markdown",
   "id": "c496a0aa",
   "metadata": {},
   "source": [
    "#### 4. What are the values of the following expressions?"
   ]
  },
  {
   "cell_type": "raw",
   "id": "3ac09cba",
   "metadata": {},
   "source": [
    "(5 > 4) and (3 == 5)\n",
    "not (5 > 4)\n",
    "(5 > 4) or (3 == 5)\n",
    "not ((5 > 4) or (3 == 5))\n",
    "(True and True) and (True == False)\n",
    "(not False) or (not True)\n"
   ]
  },
  {
   "cell_type": "raw",
   "id": "65a6dd9b",
   "metadata": {},
   "source": [
    "Solution: \n",
    "\n",
    "    (5 > 4) and (3 == 5) => True and False => False\n",
    "    \n",
    "    not (5 > 4) => False\n",
    "    \n",
    "    (5 > 4) or (3 == 5) => True or False => True\n",
    "    \n",
    "    not ((5 > 4) or (3 == 5)) => not(True or False) => not(True) => False\n",
    "    \n",
    "    (True and True) and (True == False) => True and False => False\n",
    "    \n",
    "    (not False) or (not True) => True or False => True"
   ]
  },
  {
   "cell_type": "markdown",
   "id": "2efe7079",
   "metadata": {},
   "source": [
    "#### 5. What are the six comparison operators?"
   ]
  },
  {
   "cell_type": "raw",
   "id": "73d1b57c",
   "metadata": {},
   "source": [
    "Solution:\n",
    "    \n",
    "    There are six main comparison operators: \n",
    "        equal to                   ==\n",
    "        not equal to               !=\n",
    "        greater than               >\n",
    "        greater than or equal to   >=\n",
    "        less than                  <\n",
    "        less than or equal to      <="
   ]
  },
  {
   "cell_type": "markdown",
   "id": "145e82e0",
   "metadata": {},
   "source": [
    "#### 6. How do you tell the difference between the equal to and assignment operators?Describe a condition and when you would use one."
   ]
  },
  {
   "cell_type": "raw",
   "id": "5f2b4dc0",
   "metadata": {},
   "source": [
    "Solution:\n",
    "    \n",
    "    The '=' is an assignment operator, it is used to assign the value on the right to the variable on the left.\n",
    "    \n",
    "    Example: Num = 18 # Asssigning a value 18 to the variable Num.\n",
    "    \n",
    "    The '==' operator checks whether the two given operands are equal or not. If equal, it returns True.\n",
    "    \n",
    "    Example:  \"Hello\" == \"Hello\"  returns True\n",
    "              \"Hello\" == \"hello\"  returns False\n",
    "               99 == 99           returns True\n",
    "               23 == 24           returns False\n",
    "    \n",
    "    "
   ]
  },
  {
   "cell_type": "markdown",
   "id": "d7122a95",
   "metadata": {},
   "source": [
    "#### 7. Identify the three blocks in this code:\n",
    "\n"
   ]
  },
  {
   "cell_type": "raw",
   "id": "b3fd6ba5",
   "metadata": {},
   "source": [
    "spam = 0\n",
    "if spam == 10:\n",
    "print('eggs')\n",
    "if spam > 5:\n",
    "print('bacon')\n",
    "else:\n",
    "print('ham')\n",
    "print('spam')\n",
    "print('spam')"
   ]
  },
  {
   "cell_type": "raw",
   "id": "26cd6023",
   "metadata": {},
   "source": [
    "Solution:\n",
    "\n",
    "spam = 0\n",
    "if spam == 10:\n",
    "    print('eggs')  # Block 1\n",
    "if spam > 5:\n",
    "    print('bacon') # Block 2\n",
    "else:\n",
    "    print('ham')   # Block 3\n",
    "    print('spam')\n",
    "    print('spam')"
   ]
  },
  {
   "cell_type": "markdown",
   "id": "086040f6",
   "metadata": {},
   "source": [
    "#### 8. Write code that prints Hello if 1 is stored in spam, prints Howdy if 2 is stored in spam, and prints Greetings! if anything else is stored in spam.\n",
    "\n"
   ]
  },
  {
   "cell_type": "code",
   "execution_count": 10,
   "id": "29676693",
   "metadata": {},
   "outputs": [
    {
     "name": "stdout",
     "output_type": "stream",
     "text": [
      "Hello\n"
     ]
    }
   ],
   "source": [
    "spam = 1\n",
    "if spam == 1:\n",
    "    print(\"Hello\")\n",
    "elif spam == 2:\n",
    "    print(\"Howdy\")\n",
    "else:\n",
    "    print(\"Greetings!\")"
   ]
  },
  {
   "cell_type": "code",
   "execution_count": 11,
   "id": "3649ad99",
   "metadata": {},
   "outputs": [
    {
     "name": "stdout",
     "output_type": "stream",
     "text": [
      "Howdy\n"
     ]
    }
   ],
   "source": [
    "spam = 2\n",
    "if spam == 1:\n",
    "    print(\"Hello\")\n",
    "elif spam == 2:\n",
    "    print(\"Howdy\")\n",
    "else:\n",
    "    print(\"Greetings!\")"
   ]
  },
  {
   "cell_type": "code",
   "execution_count": 12,
   "id": "8c7faa6e",
   "metadata": {},
   "outputs": [
    {
     "name": "stdout",
     "output_type": "stream",
     "text": [
      "Greetings!\n"
     ]
    }
   ],
   "source": [
    "spam = 6\n",
    "if spam == 1:\n",
    "    print(\"Hello\")\n",
    "elif spam == 2:\n",
    "    print(\"Howdy\")\n",
    "else:\n",
    "    print(\"Greetings!\")"
   ]
  },
  {
   "cell_type": "markdown",
   "id": "1aedfd75",
   "metadata": {},
   "source": [
    "#### 9.If your programme is stuck in an endless loop, what keys you’ll press?"
   ]
  },
  {
   "cell_type": "raw",
   "id": "3e68108b",
   "metadata": {},
   "source": [
    "Solution:\n",
    "\n",
    "    To exit out of an infinite loop press CTRL + C ."
   ]
  },
  {
   "cell_type": "markdown",
   "id": "c7719ade",
   "metadata": {},
   "source": [
    "#### 10. How can you tell the difference between break and continue?"
   ]
  },
  {
   "cell_type": "raw",
   "id": "112448f5",
   "metadata": {},
   "source": [
    "Solution:\n",
    "    \n",
    "    'break' is used for immediate termination of loop. \n",
    "    'continue' is used to terminate the current iteration and resumes the control to the next iteration of the loop."
   ]
  },
  {
   "cell_type": "markdown",
   "id": "bc73f1d7",
   "metadata": {},
   "source": [
    "#### 11. In a for loop, what is the difference between range(10), range(0, 10), and range(0, 10, 1)?"
   ]
  },
  {
   "cell_type": "code",
   "execution_count": null,
   "id": "6e9d5a34",
   "metadata": {},
   "outputs": [],
   "source": [
    "Solution:\n",
    "    \n",
    "    range(10) : Generate the numbers from 0 to 9\n",
    "    \n",
    "    range(0,10) : Generate the numbers from 0 to 9\n",
    "        \n",
    "    range(0,10,1) : Generate the numbers from 0 to 9\n",
    "        \n",
    "    All perform same operation. Default starting index is 0, and step value is 1."
   ]
  },
  {
   "cell_type": "markdown",
   "id": "1ffb55d9",
   "metadata": {},
   "source": [
    "#### 12. Write a short program that prints the numbers 1 to 10 using a for loop. Then write an equivalent program that prints the numbers 1 to 10 using a while loop."
   ]
  },
  {
   "cell_type": "code",
   "execution_count": 24,
   "id": "9b11330c",
   "metadata": {},
   "outputs": [
    {
     "name": "stdout",
     "output_type": "stream",
     "text": [
      "1\n",
      "2\n",
      "3\n",
      "4\n",
      "5\n",
      "6\n",
      "7\n",
      "8\n",
      "9\n",
      "10\n"
     ]
    }
   ],
   "source": [
    "# To print the numbers 1 to 10 using a for loop\n",
    "\n",
    "for i in range(1,11):\n",
    "    print(i)"
   ]
  },
  {
   "cell_type": "code",
   "execution_count": 26,
   "id": "9671deaa",
   "metadata": {},
   "outputs": [
    {
     "name": "stdout",
     "output_type": "stream",
     "text": [
      "1\n",
      "2\n",
      "3\n",
      "4\n",
      "5\n",
      "6\n",
      "7\n",
      "8\n",
      "9\n",
      "10\n"
     ]
    }
   ],
   "source": [
    "# To print the numbers 1 to 10 using while loop\n",
    "\n",
    "i = 1\n",
    "while i!=11:\n",
    "    print(i)\n",
    "    i = i + 1"
   ]
  },
  {
   "cell_type": "markdown",
   "id": "267aed3c",
   "metadata": {},
   "source": [
    "#### 13. If you had a function named bacon() inside a module named spam, how would you call it after importing spam?"
   ]
  },
  {
   "cell_type": "raw",
   "id": "bfac6d38",
   "metadata": {},
   "source": [
    "Solution:\n",
    "    \n",
    "    spam.bacon()"
   ]
  }
 ],
 "metadata": {
  "kernelspec": {
   "display_name": "Python 3 (ipykernel)",
   "language": "python",
   "name": "python3"
  },
  "language_info": {
   "codemirror_mode": {
    "name": "ipython",
    "version": 3
   },
   "file_extension": ".py",
   "mimetype": "text/x-python",
   "name": "python",
   "nbconvert_exporter": "python",
   "pygments_lexer": "ipython3",
   "version": "3.9.7"
  }
 },
 "nbformat": 4,
 "nbformat_minor": 5
}
